{
  "nbformat": 4,
  "nbformat_minor": 0,
  "metadata": {
    "colab": {
      "name": "Copy of fcc_predict_health_costs_with_regression.ipynb",
      "provenance": [],
      "collapsed_sections": [],
      "include_colab_link": true
    },
    "kernelspec": {
      "display_name": "Python 3",
      "name": "python3"
    }
  },
  "cells": [
    {
      "cell_type": "markdown",
      "metadata": {
        "id": "view-in-github",
        "colab_type": "text"
      },
      "source": [
        "<a href=\"https://colab.research.google.com/github/irishka-learns/freecodecamp/blob/main/fcc_predict_health_costs_with_regression.ipynb\" target=\"_parent\"><img src=\"https://colab.research.google.com/assets/colab-badge.svg\" alt=\"Open In Colab\"/></a>"
      ]
    },
    {
      "cell_type": "markdown",
      "metadata": {
        "id": "M9TX15KOkPBV"
      },
      "source": [
        "*Note: You are currently reading this using Google Colaboratory which is a cloud-hosted version of Jupyter Notebook. This is a document containing both text cells for documentation and runnable code cells. If you are unfamiliar with Jupyter Notebook, watch this 3-minute introduction before starting this challenge: https://www.youtube.com/watch?v=inN8seMm7UI*\n",
        "\n",
        "---\n",
        "\n",
        "In this challenge, you will predict healthcare costs using a regression algorithm.\n",
        "\n",
        "You are given a dataset that contains information about different people including their healthcare costs. Use the data to predict healthcare costs based on new data.\n",
        "\n",
        "The first two cells of this notebook import libraries and the data.\n",
        "\n",
        "Make sure to convert categorical data to numbers. Use 80% of the data as the `train_dataset` and 20% of the data as the `test_dataset`.\n",
        "\n",
        "`pop` off the \"expenses\" column from these datasets to create new datasets called `train_labels` and `test_labels`. Use these labels when training your model.\n",
        "\n",
        "Create a model and train it with the `train_dataset`. Run the final cell in this notebook to check your model. The final cell will use the unseen `test_dataset` to check how well the model generalizes.\n",
        "\n",
        "To pass the challenge, `model.evaluate` must return a Mean Absolute Error of under 3500. This means it predicts health care costs correctly within $3500.\n",
        "\n",
        "The final cell will also predict expenses using the `test_dataset` and graph the results."
      ]
    },
    {
      "cell_type": "code",
      "metadata": {
        "id": "1rRo8oNqZ-Rj",
        "colab": {
          "base_uri": "https://localhost:8080/"
        },
        "outputId": "e89d898c-c295-4d11-d265-fdc5868623cf"
      },
      "source": [
        "# Import libraries. You may or may not use all of these.\n",
        "!pip install -q git+https://github.com/tensorflow/docs\n",
        "import matplotlib.pyplot as plt\n",
        "import numpy as np\n",
        "import pandas as pd\n",
        "\n",
        "try:\n",
        "  # %tensorflow_version only exists in Colab.\n",
        "  %tensorflow_version 2.x\n",
        "except Exception:\n",
        "  pass\n",
        "import tensorflow as tf\n",
        "\n",
        "from tensorflow import keras\n",
        "from tensorflow.keras import layers\n",
        "\n",
        "import tensorflow_docs as tfdocs\n",
        "import tensorflow_docs.plots\n",
        "import tensorflow_docs.modeling"
      ],
      "execution_count": 1,
      "outputs": [
        {
          "output_type": "stream",
          "text": [
            "\u001b[?25l\r\u001b[K     |▎                               | 10kB 19.6MB/s eta 0:00:01\r\u001b[K     |▋                               | 20kB 24.7MB/s eta 0:00:01\r\u001b[K     |█                               | 30kB 18.3MB/s eta 0:00:01\r\u001b[K     |█▎                              | 40kB 10.9MB/s eta 0:00:01\r\u001b[K     |█▋                              | 51kB 7.5MB/s eta 0:00:01\r\u001b[K     |██                              | 61kB 8.4MB/s eta 0:00:01\r\u001b[K     |██▎                             | 71kB 8.1MB/s eta 0:00:01\r\u001b[K     |██▋                             | 81kB 8.3MB/s eta 0:00:01\r\u001b[K     |██▉                             | 92kB 8.4MB/s eta 0:00:01\r\u001b[K     |███▏                            | 102kB 8.7MB/s eta 0:00:01\r\u001b[K     |███▌                            | 112kB 8.7MB/s eta 0:00:01\r\u001b[K     |███▉                            | 122kB 8.7MB/s eta 0:00:01\r\u001b[K     |████▏                           | 133kB 8.7MB/s eta 0:00:01\r\u001b[K     |████▌                           | 143kB 8.7MB/s eta 0:00:01\r\u001b[K     |████▉                           | 153kB 8.7MB/s eta 0:00:01\r\u001b[K     |█████▏                          | 163kB 8.7MB/s eta 0:00:01\r\u001b[K     |█████▍                          | 174kB 8.7MB/s eta 0:00:01\r\u001b[K     |█████▊                          | 184kB 8.7MB/s eta 0:00:01\r\u001b[K     |██████                          | 194kB 8.7MB/s eta 0:00:01\r\u001b[K     |██████▍                         | 204kB 8.7MB/s eta 0:00:01\r\u001b[K     |██████▊                         | 215kB 8.7MB/s eta 0:00:01\r\u001b[K     |███████                         | 225kB 8.7MB/s eta 0:00:01\r\u001b[K     |███████▍                        | 235kB 8.7MB/s eta 0:00:01\r\u001b[K     |███████▊                        | 245kB 8.7MB/s eta 0:00:01\r\u001b[K     |████████                        | 256kB 8.7MB/s eta 0:00:01\r\u001b[K     |████████▎                       | 266kB 8.7MB/s eta 0:00:01\r\u001b[K     |████████▋                       | 276kB 8.7MB/s eta 0:00:01\r\u001b[K     |█████████                       | 286kB 8.7MB/s eta 0:00:01\r\u001b[K     |█████████▎                      | 296kB 8.7MB/s eta 0:00:01\r\u001b[K     |█████████▋                      | 307kB 8.7MB/s eta 0:00:01\r\u001b[K     |██████████                      | 317kB 8.7MB/s eta 0:00:01\r\u001b[K     |██████████▎                     | 327kB 8.7MB/s eta 0:00:01\r\u001b[K     |██████████▋                     | 337kB 8.7MB/s eta 0:00:01\r\u001b[K     |██████████▉                     | 348kB 8.7MB/s eta 0:00:01\r\u001b[K     |███████████▏                    | 358kB 8.7MB/s eta 0:00:01\r\u001b[K     |███████████▌                    | 368kB 8.7MB/s eta 0:00:01\r\u001b[K     |███████████▉                    | 378kB 8.7MB/s eta 0:00:01\r\u001b[K     |████████████▏                   | 389kB 8.7MB/s eta 0:00:01\r\u001b[K     |████████████▌                   | 399kB 8.7MB/s eta 0:00:01\r\u001b[K     |████████████▉                   | 409kB 8.7MB/s eta 0:00:01\r\u001b[K     |█████████████▏                  | 419kB 8.7MB/s eta 0:00:01\r\u001b[K     |█████████████▌                  | 430kB 8.7MB/s eta 0:00:01\r\u001b[K     |█████████████▊                  | 440kB 8.7MB/s eta 0:00:01\r\u001b[K     |██████████████                  | 450kB 8.7MB/s eta 0:00:01\r\u001b[K     |██████████████▍                 | 460kB 8.7MB/s eta 0:00:01\r\u001b[K     |██████████████▊                 | 471kB 8.7MB/s eta 0:00:01\r\u001b[K     |███████████████                 | 481kB 8.7MB/s eta 0:00:01\r\u001b[K     |███████████████▍                | 491kB 8.7MB/s eta 0:00:01\r\u001b[K     |███████████████▊                | 501kB 8.7MB/s eta 0:00:01\r\u001b[K     |████████████████                | 512kB 8.7MB/s eta 0:00:01\r\u001b[K     |████████████████▎               | 522kB 8.7MB/s eta 0:00:01\r\u001b[K     |████████████████▋               | 532kB 8.7MB/s eta 0:00:01\r\u001b[K     |█████████████████               | 542kB 8.7MB/s eta 0:00:01\r\u001b[K     |█████████████████▎              | 552kB 8.7MB/s eta 0:00:01\r\u001b[K     |█████████████████▋              | 563kB 8.7MB/s eta 0:00:01\r\u001b[K     |██████████████████              | 573kB 8.7MB/s eta 0:00:01\r\u001b[K     |██████████████████▎             | 583kB 8.7MB/s eta 0:00:01\r\u001b[K     |██████████████████▋             | 593kB 8.7MB/s eta 0:00:01\r\u001b[K     |███████████████████             | 604kB 8.7MB/s eta 0:00:01\r\u001b[K     |███████████████████▏            | 614kB 8.7MB/s eta 0:00:01\r\u001b[K     |███████████████████▌            | 624kB 8.7MB/s eta 0:00:01\r\u001b[K     |███████████████████▉            | 634kB 8.7MB/s eta 0:00:01\r\u001b[K     |████████████████████▏           | 645kB 8.7MB/s eta 0:00:01\r\u001b[K     |████████████████████▌           | 655kB 8.7MB/s eta 0:00:01\r\u001b[K     |████████████████████▉           | 665kB 8.7MB/s eta 0:00:01\r\u001b[K     |█████████████████████▏          | 675kB 8.7MB/s eta 0:00:01\r\u001b[K     |█████████████████████▌          | 686kB 8.7MB/s eta 0:00:01\r\u001b[K     |█████████████████████▊          | 696kB 8.7MB/s eta 0:00:01\r\u001b[K     |██████████████████████          | 706kB 8.7MB/s eta 0:00:01\r\u001b[K     |██████████████████████▍         | 716kB 8.7MB/s eta 0:00:01\r\u001b[K     |██████████████████████▊         | 727kB 8.7MB/s eta 0:00:01\r\u001b[K     |███████████████████████         | 737kB 8.7MB/s eta 0:00:01\r\u001b[K     |███████████████████████▍        | 747kB 8.7MB/s eta 0:00:01\r\u001b[K     |███████████████████████▊        | 757kB 8.7MB/s eta 0:00:01\r\u001b[K     |████████████████████████        | 768kB 8.7MB/s eta 0:00:01\r\u001b[K     |████████████████████████▍       | 778kB 8.7MB/s eta 0:00:01\r\u001b[K     |████████████████████████▋       | 788kB 8.7MB/s eta 0:00:01\r\u001b[K     |█████████████████████████       | 798kB 8.7MB/s eta 0:00:01\r\u001b[K     |█████████████████████████▎      | 808kB 8.7MB/s eta 0:00:01\r\u001b[K     |█████████████████████████▋      | 819kB 8.7MB/s eta 0:00:01\r\u001b[K     |██████████████████████████      | 829kB 8.7MB/s eta 0:00:01\r\u001b[K     |██████████████████████████▎     | 839kB 8.7MB/s eta 0:00:01\r\u001b[K     |██████████████████████████▋     | 849kB 8.7MB/s eta 0:00:01\r\u001b[K     |███████████████████████████     | 860kB 8.7MB/s eta 0:00:01\r\u001b[K     |███████████████████████████▏    | 870kB 8.7MB/s eta 0:00:01\r\u001b[K     |███████████████████████████▌    | 880kB 8.7MB/s eta 0:00:01\r\u001b[K     |███████████████████████████▉    | 890kB 8.7MB/s eta 0:00:01\r\u001b[K     |████████████████████████████▏   | 901kB 8.7MB/s eta 0:00:01\r\u001b[K     |████████████████████████████▌   | 911kB 8.7MB/s eta 0:00:01\r\u001b[K     |████████████████████████████▉   | 921kB 8.7MB/s eta 0:00:01\r\u001b[K     |█████████████████████████████▏  | 931kB 8.7MB/s eta 0:00:01\r\u001b[K     |█████████████████████████████▌  | 942kB 8.7MB/s eta 0:00:01\r\u001b[K     |█████████████████████████████▉  | 952kB 8.7MB/s eta 0:00:01\r\u001b[K     |██████████████████████████████  | 962kB 8.7MB/s eta 0:00:01\r\u001b[K     |██████████████████████████████▍ | 972kB 8.7MB/s eta 0:00:01\r\u001b[K     |██████████████████████████████▊ | 983kB 8.7MB/s eta 0:00:01\r\u001b[K     |███████████████████████████████ | 993kB 8.7MB/s eta 0:00:01\r\u001b[K     |███████████████████████████████▍| 1.0MB 8.7MB/s eta 0:00:01\r\u001b[K     |███████████████████████████████▊| 1.0MB 8.7MB/s eta 0:00:01\r\u001b[K     |████████████████████████████████| 1.0MB 8.7MB/s \n",
            "\u001b[?25h  Building wheel for tensorflow-docs (setup.py) ... \u001b[?25l\u001b[?25hdone\n"
          ],
          "name": "stdout"
        }
      ]
    },
    {
      "cell_type": "code",
      "metadata": {
        "id": "CiX2FI4gZtTt",
        "colab": {
          "base_uri": "https://localhost:8080/",
          "height": 391
        },
        "outputId": "434361b9-f798-4ae8-a3cb-5002862f6e01"
      },
      "source": [
        "# Import data\n",
        "!wget https://cdn.freecodecamp.org/project-data/health-costs/insurance.csv\n",
        "dataset = pd.read_csv('insurance.csv')\n",
        "dataset.tail()"
      ],
      "execution_count": 2,
      "outputs": [
        {
          "output_type": "stream",
          "text": [
            "--2021-03-11 08:52:47--  https://cdn.freecodecamp.org/project-data/health-costs/insurance.csv\n",
            "Resolving cdn.freecodecamp.org (cdn.freecodecamp.org)... 172.67.70.149, 104.26.3.33, 104.26.2.33, ...\n",
            "Connecting to cdn.freecodecamp.org (cdn.freecodecamp.org)|172.67.70.149|:443... connected.\n",
            "HTTP request sent, awaiting response... 200 OK\n",
            "Length: unspecified [text/csv]\n",
            "Saving to: ‘insurance.csv’\n",
            "\n",
            "insurance.csv           [ <=>                ]  49.09K  --.-KB/s    in 0.02s   \n",
            "\n",
            "2021-03-11 08:52:48 (2.32 MB/s) - ‘insurance.csv’ saved [50264]\n",
            "\n"
          ],
          "name": "stdout"
        },
        {
          "output_type": "execute_result",
          "data": {
            "text/html": [
              "<div>\n",
              "<style scoped>\n",
              "    .dataframe tbody tr th:only-of-type {\n",
              "        vertical-align: middle;\n",
              "    }\n",
              "\n",
              "    .dataframe tbody tr th {\n",
              "        vertical-align: top;\n",
              "    }\n",
              "\n",
              "    .dataframe thead th {\n",
              "        text-align: right;\n",
              "    }\n",
              "</style>\n",
              "<table border=\"1\" class=\"dataframe\">\n",
              "  <thead>\n",
              "    <tr style=\"text-align: right;\">\n",
              "      <th></th>\n",
              "      <th>age</th>\n",
              "      <th>sex</th>\n",
              "      <th>bmi</th>\n",
              "      <th>children</th>\n",
              "      <th>smoker</th>\n",
              "      <th>region</th>\n",
              "      <th>expenses</th>\n",
              "    </tr>\n",
              "  </thead>\n",
              "  <tbody>\n",
              "    <tr>\n",
              "      <th>1333</th>\n",
              "      <td>50</td>\n",
              "      <td>male</td>\n",
              "      <td>31.0</td>\n",
              "      <td>3</td>\n",
              "      <td>no</td>\n",
              "      <td>northwest</td>\n",
              "      <td>10600.55</td>\n",
              "    </tr>\n",
              "    <tr>\n",
              "      <th>1334</th>\n",
              "      <td>18</td>\n",
              "      <td>female</td>\n",
              "      <td>31.9</td>\n",
              "      <td>0</td>\n",
              "      <td>no</td>\n",
              "      <td>northeast</td>\n",
              "      <td>2205.98</td>\n",
              "    </tr>\n",
              "    <tr>\n",
              "      <th>1335</th>\n",
              "      <td>18</td>\n",
              "      <td>female</td>\n",
              "      <td>36.9</td>\n",
              "      <td>0</td>\n",
              "      <td>no</td>\n",
              "      <td>southeast</td>\n",
              "      <td>1629.83</td>\n",
              "    </tr>\n",
              "    <tr>\n",
              "      <th>1336</th>\n",
              "      <td>21</td>\n",
              "      <td>female</td>\n",
              "      <td>25.8</td>\n",
              "      <td>0</td>\n",
              "      <td>no</td>\n",
              "      <td>southwest</td>\n",
              "      <td>2007.95</td>\n",
              "    </tr>\n",
              "    <tr>\n",
              "      <th>1337</th>\n",
              "      <td>61</td>\n",
              "      <td>female</td>\n",
              "      <td>29.1</td>\n",
              "      <td>0</td>\n",
              "      <td>yes</td>\n",
              "      <td>northwest</td>\n",
              "      <td>29141.36</td>\n",
              "    </tr>\n",
              "  </tbody>\n",
              "</table>\n",
              "</div>"
            ],
            "text/plain": [
              "      age     sex   bmi  children smoker     region  expenses\n",
              "1333   50    male  31.0         3     no  northwest  10600.55\n",
              "1334   18  female  31.9         0     no  northeast   2205.98\n",
              "1335   18  female  36.9         0     no  southeast   1629.83\n",
              "1336   21  female  25.8         0     no  southwest   2007.95\n",
              "1337   61  female  29.1         0    yes  northwest  29141.36"
            ]
          },
          "metadata": {
            "tags": []
          },
          "execution_count": 2
        }
      ]
    },
    {
      "cell_type": "code",
      "metadata": {
        "id": "abAwZ_RLUeSw",
        "colab": {
          "base_uri": "https://localhost:8080/"
        },
        "outputId": "fd7d98b8-d8de-4c12-9e20-b54a873d690b"
      },
      "source": [
        "print(dataset.isna().sum())\n",
        "print(dataset.sex.unique())\n",
        "print(dataset.smoker.unique())\n",
        "print(dataset.region.unique())"
      ],
      "execution_count": 4,
      "outputs": [
        {
          "output_type": "stream",
          "text": [
            "age         0\n",
            "sex         0\n",
            "bmi         0\n",
            "children    0\n",
            "smoker      0\n",
            "region      0\n",
            "expenses    0\n",
            "dtype: int64\n",
            "['female' 'male']\n",
            "['yes' 'no']\n",
            "['southwest' 'southeast' 'northwest' 'northeast']\n"
          ],
          "name": "stdout"
        }
      ]
    },
    {
      "cell_type": "code",
      "metadata": {
        "id": "k90r98AyARRR"
      },
      "source": [
        "dataset['sex'] = dataset.sex.map({'male': 0, 'female': 1})\n",
        "dataset['smoker'] = dataset.smoker.map({'no': 0, 'yes': 1})\n",
        "dataset = pd.get_dummies(dataset, prefix='', prefix_sep='')"
      ],
      "execution_count": 5,
      "outputs": []
    },
    {
      "cell_type": "code",
      "metadata": {
        "id": "0tK1T2xQs4xW"
      },
      "source": [
        "train_dataset = dataset.sample(frac= 0.8, random_state=21)\n",
        "train_lables = train_dataset.pop('expenses')\n",
        "test_dataset = dataset.drop(train_dataset.index)\n",
        "test_lables = test_dataset.pop('expenses')"
      ],
      "execution_count": 6,
      "outputs": []
    },
    {
      "cell_type": "code",
      "metadata": {
        "id": "L8KPY7ZiANyA",
        "colab": {
          "base_uri": "https://localhost:8080/"
        },
        "outputId": "0f88d69f-9519-42a7-d5df-d799c1810882"
      },
      "source": [
        "normalizer = keras.layers.experimental.preprocessing.Normalization()\n",
        "normalizer.adapt(np.array(train_dataset))\n",
        "\n",
        "model = keras.Sequential([\n",
        "                          normalizer,\n",
        "                          layers.Dense(64, activation='relu'),\n",
        "                          layers.Dense(1)\n",
        "])\n",
        "\n",
        "model.summary()"
      ],
      "execution_count": 7,
      "outputs": [
        {
          "output_type": "stream",
          "text": [
            "Model: \"sequential\"\n",
            "_________________________________________________________________\n",
            "Layer (type)                 Output Shape              Param #   \n",
            "=================================================================\n",
            "normalization (Normalization (None, 9)                 19        \n",
            "_________________________________________________________________\n",
            "dense (Dense)                (None, 64)                640       \n",
            "_________________________________________________________________\n",
            "dense_1 (Dense)              (None, 1)                 65        \n",
            "=================================================================\n",
            "Total params: 724\n",
            "Trainable params: 705\n",
            "Non-trainable params: 19\n",
            "_________________________________________________________________\n"
          ],
          "name": "stdout"
        }
      ]
    },
    {
      "cell_type": "code",
      "metadata": {
        "id": "T1iufb4WBtvo",
        "colab": {
          "base_uri": "https://localhost:8080/"
        },
        "outputId": "ac1d6c50-94df-4e81-d7a7-a82b78670b0e"
      },
      "source": [
        "model.compile(optimizer = keras.optimizers.Adam(learning_rate=0.1), loss = 'mean_absolute_error', metrics=['mae', 'mse'])\n",
        "model.fit(train_dataset, train_lables, epochs = 100, validation_split = 0.2, verbose=0)"
      ],
      "execution_count": 8,
      "outputs": [
        {
          "output_type": "execute_result",
          "data": {
            "text/plain": [
              "<tensorflow.python.keras.callbacks.History at 0x7f2815bc2f10>"
            ]
          },
          "metadata": {
            "tags": []
          },
          "execution_count": 8
        }
      ]
    },
    {
      "cell_type": "code",
      "metadata": {
        "id": "pt4p7my45ML3"
      },
      "source": [
        "test_labels = test_lables"
      ],
      "execution_count": 9,
      "outputs": []
    },
    {
      "cell_type": "code",
      "metadata": {
        "id": "Xe7RXH3N3CWU",
        "colab": {
          "base_uri": "https://localhost:8080/",
          "height": 334
        },
        "outputId": "289bf3fb-688e-471b-b0a4-8ede31b12dbf"
      },
      "source": [
        "# RUN THIS CELL TO TEST YOUR MODEL. DO NOT MODIFY CONTENTS.\n",
        "# Test model by checking how well the model generalizes using the test set.\n",
        "loss, mae, mse = model.evaluate(test_dataset, test_labels, verbose=2)\n",
        "\n",
        "print(\"Testing set Mean Abs Error: {:5.2f} expenses\".format(mae))\n",
        "\n",
        "if mae < 3500:\n",
        "  print(\"You passed the challenge. Great job!\")\n",
        "else:\n",
        "  print(\"The Mean Abs Error must be less than 3500. Keep trying.\")\n",
        "\n",
        "# Plot predictions.\n",
        "test_predictions = model.predict(test_dataset).flatten()\n",
        "\n",
        "a = plt.axes(aspect='equal')\n",
        "plt.scatter(test_labels, test_predictions)\n",
        "plt.xlabel('True values (expenses)')\n",
        "plt.ylabel('Predictions (expenses)')\n",
        "lims = [0, 50000]\n",
        "plt.xlim(lims)\n",
        "plt.ylim(lims)\n",
        "_ = plt.plot(lims,lims)\n"
      ],
      "execution_count": 10,
      "outputs": [
        {
          "output_type": "stream",
          "text": [
            "9/9 - 0s - loss: 2109.9099 - mae: 2109.9099 - mse: 23933256.0000\n",
            "Testing set Mean Abs Error: 2109.91 expenses\n",
            "You passed the challenge. Great job!\n"
          ],
          "name": "stdout"
        },
        {
          "output_type": "display_data",
          "data": {
            "image/png": "[encoded data removed]",
            "text/plain": [
              "<Figure size 432x288 with 1 Axes>"
            ]
          },
          "metadata": {
            "tags": [],
            "needs_background": "light"
          }
        }
      ]
    }
  ]
}